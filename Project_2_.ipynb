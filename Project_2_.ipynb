{
  "nbformat": 4,
  "nbformat_minor": 0,
  "metadata": {
    "colab": {
      "provenance": [],
      "mount_file_id": "https://github.com/davegbade/Project-2-Machine-Learning.ipynb/blob/main/Project_2_.ipynb",
      "authorship_tag": "ABX9TyMUXvJBY0SsW4u+ZW/qU+Hg",
      "include_colab_link": true
    },
    "kernelspec": {
      "name": "python3",
      "display_name": "Python 3"
    },
    "language_info": {
      "name": "python"
    }
  },
  "cells": [
    {
      "cell_type": "markdown",
      "metadata": {
        "id": "view-in-github",
        "colab_type": "text"
      },
      "source": [
        "<a href=\"https://colab.research.google.com/github/davegbade/Project-2-Machine-Learning.ipynb/blob/main/Project_2_.ipynb\" target=\"_parent\"><img src=\"https://colab.research.google.com/assets/colab-badge.svg\" alt=\"Open In Colab\"/></a>"
      ]
    },
    {
      "cell_type": "markdown",
      "source": [
        "# **Project 2 Part 1**\n",
        "\n"
      ],
      "metadata": {
        "id": "C3sylUQZUalR"
      }
    },
    {
      "cell_type": "markdown",
      "source": [],
      "metadata": {
        "id": "dhJf2dkTUbop"
      }
    },
    {
      "cell_type": "code",
      "execution_count": 1,
      "metadata": {
        "id": "tyUGoVz5UVt0"
      },
      "outputs": [],
      "source": [
        "# Pandas\n",
        "import pandas as pd\n",
        "# Numpy\n",
        "import numpy as np\n",
        "# MatplotLib\n",
        "import matplotlib.pyplot as plt\n",
        "\n",
        "# Preprocessing\n",
        "from sklearn.model_selection import train_test_split, GridSearchCV\n",
        "from sklearn.compose import make_column_selector\n",
        "from sklearn.preprocessing import StandardScaler, OrdinalEncoder\n",
        "from sklearn.pipeline import make_pipeline\n",
        "from sklearn.compose import make_column_transformer\n",
        "from sklearn.impute import SimpleImputer\n",
        "\n",
        "# Models\n",
        "from sklearn.neighbors import KNeighborsClassifier\n",
        "from sklearn.tree import DecisionTreeClassifier\n",
        "from sklearn.linear_model import LogisticRegression, LinearRegression\n",
        "\n",
        "# Classification Metrics\n",
        "\n",
        "from sklearn.metrics import (roc_auc_score, ConfusionMatrixDisplay,\n",
        "                             PrecisionRecallDisplay, RocCurveDisplay,\n",
        "                             f1_score, accuracy_score, precision_score,\n",
        "                             recall_score, classification_report)\n",
        "\n",
        "# Set global scikit-learn configuration\n",
        "from sklearn import set_config\n",
        "# Display estimators as a diagram\n",
        "set_config(display='diagram') # 'text' or 'diagram'}"
      ]
    },
    {
      "cell_type": "markdown",
      "source": [
        "# **Load and inspect the data**"
      ],
      "metadata": {
        "id": "POwkT98PVRkY"
      }
    },
    {
      "cell_type": "markdown",
      "source": [
        "# **First choice: dataset 1**"
      ],
      "metadata": {
        "id": "n2vTShiOVcLe"
      }
    },
    {
      "cell_type": "markdown",
      "source": [
        "# **Stroke Prediction Dataset**\n",
        "\n",
        "\n",
        "\n"
      ],
      "metadata": {
        "id": "-lOUeS67ZKbT"
      }
    },
    {
      "cell_type": "markdown",
      "source": [
        "**Brief description of the dataset:**\n",
        "\n",
        "- The dataset is about stroke prediction, which is a serious health issue that affects millions of people worldwide.\n",
        "\n",
        "- The dataset contains information about 12 variables for each patient, such as gender, age, hypertension, heart disease, ever married, work type, residence\n",
        "type, average glucose level, body mass index, smoking status and stroke outcome.\n",
        "\n",
        "- The dataset can be used to train a machine learning model to predict whether a patient is likely to get a stroke based on the input parameters.\n",
        "\n",
        "- The dataset is from a confidential source and should be used only for educational purposes with proper citation."
      ],
      "metadata": {
        "id": "EjoDl1DWdaEM"
      }
    },
    {
      "cell_type": "markdown",
      "source": [
        "**Suggestions for the models appropriate for the dataset:**\n",
        "\n",
        "stroke prediction dataset, a classification model would be suitable, since the target variable is binary (stroke or no stroke). Some possible classification models are logistic regression, decision tree, random forest, support vector machine, k-nearest neighbors and neural network"
      ],
      "metadata": {
        "id": "fAhdYMFxgdLT"
      }
    },
    {
      "cell_type": "code",
      "source": [
        "# Load the data\n",
        "#f_path =\"/content/drive/MyDrive/healthcare-dataset-stroke-data.csv\"\n",
        "#df = pd.read_csv(f_path)\n",
        "#df.head()"
      ],
      "metadata": {
        "id": "aKlg35ewVih6"
      },
      "execution_count": 2,
      "outputs": []
    },
    {
      "cell_type": "markdown",
      "source": [
        "# **Second choice: dataset 2**"
      ],
      "metadata": {
        "id": "UMoRxLXbZwtH"
      }
    },
    {
      "cell_type": "markdown",
      "source": [
        "# **Adult income dataset**"
      ],
      "metadata": {
        "id": "1Hx1wBE1V-0T"
      }
    },
    {
      "cell_type": "markdown",
      "source": [
        "**Brief description of the dataset:**\n",
        "\n",
        "- The dataset is about adult income, which is influenced by various factors such as education level, age, gender, occupation and etc.\n",
        "\n",
        "- The dataset contains information about 14 variables for each individual, such as age, work class, education, marital status, occupation, relationship, race, sex, capital gain, capital loss, hours per week, native country and income level.\n",
        "\n",
        "- The dataset can be used to train a machine learning model to predict whether an individual’s income is above or below 50K based on the input parameters.\n",
        "\n",
        "- The dataset is from the UCI machine learning repository and has been widely cited in the literature."
      ],
      "metadata": {
        "id": "FZX_lY4je6Xf"
      }
    },
    {
      "cell_type": "markdown",
      "source": [
        "**Suggestions for the models appropriate for the dataset:**\n",
        "\n",
        "For the adult income dataset, a classification model would also be suitable, since the target variable is binary (income above or below 50K). Some possible classification models are the logistic regression, decision tree, random forest, support vector machine, k-nearest neighbors and neural network , or you can also try naive Bayes, gradient boosting or XGBoost."
      ],
      "metadata": {
        "id": "Le0TrGBSiwUx"
      }
    },
    {
      "cell_type": "code",
      "source": [
        "# Load the data\n",
        "f_path2 =\"/content/drive/MyDrive/Adult Income.csv\"\n",
        "df2 = pd.read_csv(f_path2)\n",
        "df2.head()"
      ],
      "metadata": {
        "colab": {
          "base_uri": "https://localhost:8080/",
          "height": 206
        },
        "id": "XJlM6En6V_Mp",
        "outputId": "e66a5b90-a25f-4d85-a542-ad3d1cbfb41a"
      },
      "execution_count": 4,
      "outputs": [
        {
          "output_type": "execute_result",
          "data": {
            "text/plain": [
              "   age  workclass  fnlwgt     education  educational-num      marital-status  \\\n",
              "0   25    Private  226802          11th                7       Never-married   \n",
              "1   38    Private   89814       HS-grad                9  Married-civ-spouse   \n",
              "2   28  Local-gov  336951    Assoc-acdm               12  Married-civ-spouse   \n",
              "3   44    Private  160323  Some-college               10  Married-civ-spouse   \n",
              "4   18          ?  103497  Some-college               10       Never-married   \n",
              "\n",
              "          occupation relationship   race  gender  capital-gain  capital-loss  \\\n",
              "0  Machine-op-inspct    Own-child  Black    Male             0             0   \n",
              "1    Farming-fishing      Husband  White    Male             0             0   \n",
              "2    Protective-serv      Husband  White    Male             0             0   \n",
              "3  Machine-op-inspct      Husband  Black    Male          7688             0   \n",
              "4                  ?    Own-child  White  Female             0             0   \n",
              "\n",
              "   hours-per-week native-country income  \n",
              "0              40  United-States  <=50K  \n",
              "1              50  United-States  <=50K  \n",
              "2              40  United-States   >50K  \n",
              "3              40  United-States   >50K  \n",
              "4              30  United-States  <=50K  "
            ],
            "text/html": [
              "\n",
              "  <div id=\"df-68059c84-8b5f-4974-9d37-e87884ed6e1b\">\n",
              "    <div class=\"colab-df-container\">\n",
              "      <div>\n",
              "<style scoped>\n",
              "    .dataframe tbody tr th:only-of-type {\n",
              "        vertical-align: middle;\n",
              "    }\n",
              "\n",
              "    .dataframe tbody tr th {\n",
              "        vertical-align: top;\n",
              "    }\n",
              "\n",
              "    .dataframe thead th {\n",
              "        text-align: right;\n",
              "    }\n",
              "</style>\n",
              "<table border=\"1\" class=\"dataframe\">\n",
              "  <thead>\n",
              "    <tr style=\"text-align: right;\">\n",
              "      <th></th>\n",
              "      <th>age</th>\n",
              "      <th>workclass</th>\n",
              "      <th>fnlwgt</th>\n",
              "      <th>education</th>\n",
              "      <th>educational-num</th>\n",
              "      <th>marital-status</th>\n",
              "      <th>occupation</th>\n",
              "      <th>relationship</th>\n",
              "      <th>race</th>\n",
              "      <th>gender</th>\n",
              "      <th>capital-gain</th>\n",
              "      <th>capital-loss</th>\n",
              "      <th>hours-per-week</th>\n",
              "      <th>native-country</th>\n",
              "      <th>income</th>\n",
              "    </tr>\n",
              "  </thead>\n",
              "  <tbody>\n",
              "    <tr>\n",
              "      <th>0</th>\n",
              "      <td>25</td>\n",
              "      <td>Private</td>\n",
              "      <td>226802</td>\n",
              "      <td>11th</td>\n",
              "      <td>7</td>\n",
              "      <td>Never-married</td>\n",
              "      <td>Machine-op-inspct</td>\n",
              "      <td>Own-child</td>\n",
              "      <td>Black</td>\n",
              "      <td>Male</td>\n",
              "      <td>0</td>\n",
              "      <td>0</td>\n",
              "      <td>40</td>\n",
              "      <td>United-States</td>\n",
              "      <td>&lt;=50K</td>\n",
              "    </tr>\n",
              "    <tr>\n",
              "      <th>1</th>\n",
              "      <td>38</td>\n",
              "      <td>Private</td>\n",
              "      <td>89814</td>\n",
              "      <td>HS-grad</td>\n",
              "      <td>9</td>\n",
              "      <td>Married-civ-spouse</td>\n",
              "      <td>Farming-fishing</td>\n",
              "      <td>Husband</td>\n",
              "      <td>White</td>\n",
              "      <td>Male</td>\n",
              "      <td>0</td>\n",
              "      <td>0</td>\n",
              "      <td>50</td>\n",
              "      <td>United-States</td>\n",
              "      <td>&lt;=50K</td>\n",
              "    </tr>\n",
              "    <tr>\n",
              "      <th>2</th>\n",
              "      <td>28</td>\n",
              "      <td>Local-gov</td>\n",
              "      <td>336951</td>\n",
              "      <td>Assoc-acdm</td>\n",
              "      <td>12</td>\n",
              "      <td>Married-civ-spouse</td>\n",
              "      <td>Protective-serv</td>\n",
              "      <td>Husband</td>\n",
              "      <td>White</td>\n",
              "      <td>Male</td>\n",
              "      <td>0</td>\n",
              "      <td>0</td>\n",
              "      <td>40</td>\n",
              "      <td>United-States</td>\n",
              "      <td>&gt;50K</td>\n",
              "    </tr>\n",
              "    <tr>\n",
              "      <th>3</th>\n",
              "      <td>44</td>\n",
              "      <td>Private</td>\n",
              "      <td>160323</td>\n",
              "      <td>Some-college</td>\n",
              "      <td>10</td>\n",
              "      <td>Married-civ-spouse</td>\n",
              "      <td>Machine-op-inspct</td>\n",
              "      <td>Husband</td>\n",
              "      <td>Black</td>\n",
              "      <td>Male</td>\n",
              "      <td>7688</td>\n",
              "      <td>0</td>\n",
              "      <td>40</td>\n",
              "      <td>United-States</td>\n",
              "      <td>&gt;50K</td>\n",
              "    </tr>\n",
              "    <tr>\n",
              "      <th>4</th>\n",
              "      <td>18</td>\n",
              "      <td>?</td>\n",
              "      <td>103497</td>\n",
              "      <td>Some-college</td>\n",
              "      <td>10</td>\n",
              "      <td>Never-married</td>\n",
              "      <td>?</td>\n",
              "      <td>Own-child</td>\n",
              "      <td>White</td>\n",
              "      <td>Female</td>\n",
              "      <td>0</td>\n",
              "      <td>0</td>\n",
              "      <td>30</td>\n",
              "      <td>United-States</td>\n",
              "      <td>&lt;=50K</td>\n",
              "    </tr>\n",
              "  </tbody>\n",
              "</table>\n",
              "</div>\n",
              "      <button class=\"colab-df-convert\" onclick=\"convertToInteractive('df-68059c84-8b5f-4974-9d37-e87884ed6e1b')\"\n",
              "              title=\"Convert this dataframe to an interactive table.\"\n",
              "              style=\"display:none;\">\n",
              "        \n",
              "  <svg xmlns=\"http://www.w3.org/2000/svg\" height=\"24px\"viewBox=\"0 0 24 24\"\n",
              "       width=\"24px\">\n",
              "    <path d=\"M0 0h24v24H0V0z\" fill=\"none\"/>\n",
              "    <path d=\"M18.56 5.44l.94 2.06.94-2.06 2.06-.94-2.06-.94-.94-2.06-.94 2.06-2.06.94zm-11 1L8.5 8.5l.94-2.06 2.06-.94-2.06-.94L8.5 2.5l-.94 2.06-2.06.94zm10 10l.94 2.06.94-2.06 2.06-.94-2.06-.94-.94-2.06-.94 2.06-2.06.94z\"/><path d=\"M17.41 7.96l-1.37-1.37c-.4-.4-.92-.59-1.43-.59-.52 0-1.04.2-1.43.59L10.3 9.45l-7.72 7.72c-.78.78-.78 2.05 0 2.83L4 21.41c.39.39.9.59 1.41.59.51 0 1.02-.2 1.41-.59l7.78-7.78 2.81-2.81c.8-.78.8-2.07 0-2.86zM5.41 20L4 18.59l7.72-7.72 1.47 1.35L5.41 20z\"/>\n",
              "  </svg>\n",
              "      </button>\n",
              "      \n",
              "  <style>\n",
              "    .colab-df-container {\n",
              "      display:flex;\n",
              "      flex-wrap:wrap;\n",
              "      gap: 12px;\n",
              "    }\n",
              "\n",
              "    .colab-df-convert {\n",
              "      background-color: #E8F0FE;\n",
              "      border: none;\n",
              "      border-radius: 50%;\n",
              "      cursor: pointer;\n",
              "      display: none;\n",
              "      fill: #1967D2;\n",
              "      height: 32px;\n",
              "      padding: 0 0 0 0;\n",
              "      width: 32px;\n",
              "    }\n",
              "\n",
              "    .colab-df-convert:hover {\n",
              "      background-color: #E2EBFA;\n",
              "      box-shadow: 0px 1px 2px rgba(60, 64, 67, 0.3), 0px 1px 3px 1px rgba(60, 64, 67, 0.15);\n",
              "      fill: #174EA6;\n",
              "    }\n",
              "\n",
              "    [theme=dark] .colab-df-convert {\n",
              "      background-color: #3B4455;\n",
              "      fill: #D2E3FC;\n",
              "    }\n",
              "\n",
              "    [theme=dark] .colab-df-convert:hover {\n",
              "      background-color: #434B5C;\n",
              "      box-shadow: 0px 1px 3px 1px rgba(0, 0, 0, 0.15);\n",
              "      filter: drop-shadow(0px 1px 2px rgba(0, 0, 0, 0.3));\n",
              "      fill: #FFFFFF;\n",
              "    }\n",
              "  </style>\n",
              "\n",
              "      <script>\n",
              "        const buttonEl =\n",
              "          document.querySelector('#df-68059c84-8b5f-4974-9d37-e87884ed6e1b button.colab-df-convert');\n",
              "        buttonEl.style.display =\n",
              "          google.colab.kernel.accessAllowed ? 'block' : 'none';\n",
              "\n",
              "        async function convertToInteractive(key) {\n",
              "          const element = document.querySelector('#df-68059c84-8b5f-4974-9d37-e87884ed6e1b');\n",
              "          const dataTable =\n",
              "            await google.colab.kernel.invokeFunction('convertToInteractive',\n",
              "                                                     [key], {});\n",
              "          if (!dataTable) return;\n",
              "\n",
              "          const docLinkHtml = 'Like what you see? Visit the ' +\n",
              "            '<a target=\"_blank\" href=https://colab.research.google.com/notebooks/data_table.ipynb>data table notebook</a>'\n",
              "            + ' to learn more about interactive tables.';\n",
              "          element.innerHTML = '';\n",
              "          dataTable['output_type'] = 'display_data';\n",
              "          await google.colab.output.renderOutput(dataTable, element);\n",
              "          const docLink = document.createElement('div');\n",
              "          docLink.innerHTML = docLinkHtml;\n",
              "          element.appendChild(docLink);\n",
              "        }\n",
              "      </script>\n",
              "    </div>\n",
              "  </div>\n",
              "  "
            ]
          },
          "metadata": {},
          "execution_count": 4
        }
      ]
    },
    {
      "cell_type": "markdown",
      "source": [],
      "metadata": {
        "id": "cm437A2oa_7I"
      }
    },
    {
      "cell_type": "code",
      "source": [
        "# Display the number of rows and columns for the dataframe\n",
        "#df.shape\n",
        "#print(f'There are {df.shape[0]} rows, and {df.shape[1]} columns.')\n",
        "#print(f'The rows represent {df.shape[0]} observations, and the columns represent {df.shape[1]-1} features and 1 target variable.')"
      ],
      "metadata": {
        "id": "bwrJQpQabBGm"
      },
      "execution_count": 7,
      "outputs": []
    },
    {
      "cell_type": "code",
      "source": [
        "# Display the number of rows and columns for the dataframe\n",
        "df2.shape\n",
        "print(f'There are {df2.shape[0]} rows, and {df2.shape[1]} columns.')\n",
        "print(f'The rows represent {df2.shape[0]} observations, and the columns represent {df2.shape[1]-1} features and 1 target variable.')"
      ],
      "metadata": {
        "colab": {
          "base_uri": "https://localhost:8080/"
        },
        "id": "SDQfsCHSbGj_",
        "outputId": "6fb678cd-01ca-4d35-a28b-821d3715ce89"
      },
      "execution_count": 8,
      "outputs": [
        {
          "output_type": "stream",
          "name": "stdout",
          "text": [
            "There are 48842 rows, and 15 columns.\n",
            "The rows represent 48842 observations, and the columns represent 14 features and 1 target variable.\n"
          ]
        }
      ]
    },
    {
      "cell_type": "code",
      "source": [
        "# Display the column names, count of non-null values, and their datatypes\n",
        "#df.info()"
      ],
      "metadata": {
        "id": "yo_33uNIbZQh"
      },
      "execution_count": 9,
      "outputs": []
    },
    {
      "cell_type": "code",
      "source": [
        "# Display the column names, count of non-null values, and their datatypes\n",
        "df2.info()"
      ],
      "metadata": {
        "colab": {
          "base_uri": "https://localhost:8080/"
        },
        "id": "c6sG0wC-bas6",
        "outputId": "2e0741ea-29d5-4a6b-c5ad-0ba486f362fd"
      },
      "execution_count": 10,
      "outputs": [
        {
          "output_type": "stream",
          "name": "stdout",
          "text": [
            "<class 'pandas.core.frame.DataFrame'>\n",
            "RangeIndex: 48842 entries, 0 to 48841\n",
            "Data columns (total 15 columns):\n",
            " #   Column           Non-Null Count  Dtype \n",
            "---  ------           --------------  ----- \n",
            " 0   age              48842 non-null  int64 \n",
            " 1   workclass        48842 non-null  object\n",
            " 2   fnlwgt           48842 non-null  int64 \n",
            " 3   education        48842 non-null  object\n",
            " 4   educational-num  48842 non-null  int64 \n",
            " 5   marital-status   48842 non-null  object\n",
            " 6   occupation       48842 non-null  object\n",
            " 7   relationship     48842 non-null  object\n",
            " 8   race             48842 non-null  object\n",
            " 9   gender           48842 non-null  object\n",
            " 10  capital-gain     48842 non-null  int64 \n",
            " 11  capital-loss     48842 non-null  int64 \n",
            " 12  hours-per-week   48842 non-null  int64 \n",
            " 13  native-country   48842 non-null  object\n",
            " 14  income           48842 non-null  object\n",
            "dtypes: int64(6), object(9)\n",
            "memory usage: 5.6+ MB\n"
          ]
        }
      ]
    },
    {
      "cell_type": "markdown",
      "source": [
        "# **Clean the Data**"
      ],
      "metadata": {
        "id": "I5KsJHgZbv4b"
      }
    },
    {
      "cell_type": "markdown",
      "source": [
        "**Remove Unnecessary Columns**"
      ],
      "metadata": {
        "id": "d2H3_WltkmLq"
      }
    },
    {
      "cell_type": "code",
      "source": [
        "#df.drop(columns=['id'], inplace=True)\n",
        "#df.columns"
      ],
      "metadata": {
        "id": "7FotnpKPj-RQ"
      },
      "execution_count": 11,
      "outputs": []
    },
    {
      "cell_type": "code",
      "source": [
        "df2.drop(columns=['fnlwgt'], inplace=True)\n",
        "df2.columns"
      ],
      "metadata": {
        "colab": {
          "base_uri": "https://localhost:8080/"
        },
        "id": "JmGSDT4Hkamq",
        "outputId": "89ad30af-d243-4864-cfcc-ace397307494"
      },
      "execution_count": 12,
      "outputs": [
        {
          "output_type": "execute_result",
          "data": {
            "text/plain": [
              "Index(['age', 'workclass', 'education', 'educational-num', 'marital-status',\n",
              "       'occupation', 'relationship', 'race', 'gender', 'capital-gain',\n",
              "       'capital-loss', 'hours-per-week', 'native-country', 'income'],\n",
              "      dtype='object')"
            ]
          },
          "metadata": {},
          "execution_count": 12
        }
      ]
    },
    {
      "cell_type": "markdown",
      "source": [
        "**Duplicates**"
      ],
      "metadata": {
        "id": "ssmPeaKrktY6"
      }
    },
    {
      "cell_type": "code",
      "source": [
        "# Display the number of duplicate rows in the dataset\n",
        "#print(f'There are {df.duplicated().sum()} duplicate rows.')"
      ],
      "metadata": {
        "id": "Am_c01hCkXzY"
      },
      "execution_count": 13,
      "outputs": []
    },
    {
      "cell_type": "code",
      "source": [
        "# Display the number of duplicate rows in the dataset\n",
        "#print(f'There are {df2.duplicated().sum()} duplicate rows.')"
      ],
      "metadata": {
        "id": "vlzuLnibk0Ys"
      },
      "execution_count": 14,
      "outputs": []
    },
    {
      "cell_type": "code",
      "source": [
        "# Drop duplicte rows\n",
        "df2.drop_duplicates(inplace=True)"
      ],
      "metadata": {
        "id": "-52PcP9jlBuS"
      },
      "execution_count": 15,
      "outputs": []
    },
    {
      "cell_type": "code",
      "source": [
        "# Display the number of duplicate rows in the dataset\n",
        "print(f'There are {df2.duplicated().sum()} duplicate rows.')"
      ],
      "metadata": {
        "colab": {
          "base_uri": "https://localhost:8080/"
        },
        "id": "aq5Vk3_ZlI2s",
        "outputId": "12cda0b0-52d6-4640-b73e-272ab042a54d"
      },
      "execution_count": 16,
      "outputs": [
        {
          "output_type": "stream",
          "name": "stdout",
          "text": [
            "There are 0 duplicate rows.\n"
          ]
        }
      ]
    },
    {
      "cell_type": "markdown",
      "source": [
        "**Missing Values**"
      ],
      "metadata": {
        "id": "kGG2xKAYlRIM"
      }
    },
    {
      "cell_type": "code",
      "source": [
        "# Display the total number of missing values\n",
        "#print(f'There are {df.isna().sum().sum()} missing values.')"
      ],
      "metadata": {
        "id": "cHEbEosglZuV"
      },
      "execution_count": 17,
      "outputs": []
    },
    {
      "cell_type": "code",
      "source": [
        "# Display the total number of missing values\n",
        "print(f'There are {df2.isna().sum().sum()} missing values.')"
      ],
      "metadata": {
        "colab": {
          "base_uri": "https://localhost:8080/"
        },
        "id": "ZabSmM6JlZ_F",
        "outputId": "0dc8cbd7-6611-4756-a79b-9bc4b2f3c604"
      },
      "execution_count": 18,
      "outputs": [
        {
          "output_type": "stream",
          "name": "stdout",
          "text": [
            "There are 0 missing values.\n"
          ]
        }
      ]
    },
    {
      "cell_type": "code",
      "source": [
        "# Check for missing values. You should produce an output that shows the number of missing values for each feature.\n",
        "#df.isna().sum()"
      ],
      "metadata": {
        "id": "SNPjc8WFlwBf"
      },
      "execution_count": 19,
      "outputs": []
    },
    {
      "cell_type": "markdown",
      "source": [
        "We will not need to use SimpleImputer and in our preprocessing steps to impute missing values."
      ],
      "metadata": {
        "id": "ZrwSXq8Pl3Af"
      }
    },
    {
      "cell_type": "code",
      "source": [
        "# Check for data types for each column\n",
        "#df.info()"
      ],
      "metadata": {
        "id": "AqkrFTaomAOf"
      },
      "execution_count": 20,
      "outputs": []
    },
    {
      "cell_type": "code",
      "source": [
        "# Check for data types for each column\n",
        "df2.info()"
      ],
      "metadata": {
        "colab": {
          "base_uri": "https://localhost:8080/"
        },
        "id": "QP6X_ObWmDAZ",
        "outputId": "28fb2879-c6ce-4d35-b86e-0be57a3e7095"
      },
      "execution_count": 21,
      "outputs": [
        {
          "output_type": "stream",
          "name": "stdout",
          "text": [
            "<class 'pandas.core.frame.DataFrame'>\n",
            "Int64Index: 42468 entries, 0 to 48841\n",
            "Data columns (total 14 columns):\n",
            " #   Column           Non-Null Count  Dtype \n",
            "---  ------           --------------  ----- \n",
            " 0   age              42468 non-null  int64 \n",
            " 1   workclass        42468 non-null  object\n",
            " 2   education        42468 non-null  object\n",
            " 3   educational-num  42468 non-null  int64 \n",
            " 4   marital-status   42468 non-null  object\n",
            " 5   occupation       42468 non-null  object\n",
            " 6   relationship     42468 non-null  object\n",
            " 7   race             42468 non-null  object\n",
            " 8   gender           42468 non-null  object\n",
            " 9   capital-gain     42468 non-null  int64 \n",
            " 10  capital-loss     42468 non-null  int64 \n",
            " 11  hours-per-week   42468 non-null  int64 \n",
            " 12  native-country   42468 non-null  object\n",
            " 13  income           42468 non-null  object\n",
            "dtypes: int64(5), object(9)\n",
            "memory usage: 4.9+ MB\n"
          ]
        }
      ]
    },
    {
      "cell_type": "markdown",
      "source": [
        "# **Fixing the inconsistence values**"
      ],
      "metadata": {
        "id": "iVaM4nkso-ck"
      }
    },
    {
      "cell_type": "code",
      "source": [
        "#data_types = df.dtypes\n",
        "#str_cols = data_types[data_types=='object'].index\n",
        "#str_cols"
      ],
      "metadata": {
        "id": "_3t_It3apHk-"
      },
      "execution_count": 23,
      "outputs": []
    },
    {
      "cell_type": "code",
      "source": [
        "#for col in str_cols:\n",
        "   # print(f'- {col}:')\n",
        "    #print(df[col].value_counts(dropna=False))\n",
        "   # print(\"\\n\\n\")"
      ],
      "metadata": {
        "id": "XdbBCMi9pLeF"
      },
      "execution_count": 24,
      "outputs": []
    },
    {
      "cell_type": "code",
      "source": [
        "data_types = df2.dtypes\n",
        "str_cols = data_types[data_types=='object'].index\n",
        "str_cols"
      ],
      "metadata": {
        "colab": {
          "base_uri": "https://localhost:8080/"
        },
        "id": "O_ytfsjSpNjN",
        "outputId": "72a929eb-72ce-4fbd-d396-e3ce2f86c33d"
      },
      "execution_count": 25,
      "outputs": [
        {
          "output_type": "execute_result",
          "data": {
            "text/plain": [
              "Index(['workclass', 'education', 'marital-status', 'occupation',\n",
              "       'relationship', 'race', 'gender', 'native-country', 'income'],\n",
              "      dtype='object')"
            ]
          },
          "metadata": {},
          "execution_count": 25
        }
      ]
    },
    {
      "cell_type": "code",
      "source": [
        "for col in str_cols:\n",
        "    print(f'- {col}:')\n",
        "    print(df2[col].value_counts(dropna=False))\n",
        "    print(\"\\n\\n\")"
      ],
      "metadata": {
        "colab": {
          "base_uri": "https://localhost:8080/"
        },
        "id": "bQjtFfp8pNsd",
        "outputId": "812ab01f-1ef1-4763-ac20-6457d883bdd6"
      },
      "execution_count": 26,
      "outputs": [
        {
          "output_type": "stream",
          "name": "stdout",
          "text": [
            "- workclass:\n",
            "Private             28312\n",
            "Self-emp-not-inc     3735\n",
            "Local-gov            3011\n",
            "?                    2411\n",
            "State-gov            1927\n",
            "Self-emp-inc         1644\n",
            "Federal-gov          1397\n",
            "Without-pay            21\n",
            "Never-worked           10\n",
            "Name: workclass, dtype: int64\n",
            "\n",
            "\n",
            "\n",
            "- education:\n",
            "HS-grad         12919\n",
            "Some-college     9188\n",
            "Bachelors        6967\n",
            "Masters          2499\n",
            "Assoc-voc        1961\n",
            "11th             1598\n",
            "Assoc-acdm       1563\n",
            "10th             1277\n",
            "7th-8th           931\n",
            "Prof-school       813\n",
            "9th               737\n",
            "12th              618\n",
            "Doctorate         576\n",
            "5th-6th           498\n",
            "1st-4th           242\n",
            "Preschool          81\n",
            "Name: education, dtype: int64\n",
            "\n",
            "\n",
            "\n",
            "- marital-status:\n",
            "Married-civ-spouse       19215\n",
            "Never-married            13360\n",
            "Divorced                  6218\n",
            "Separated                 1512\n",
            "Widowed                   1499\n",
            "Married-spouse-absent      627\n",
            "Married-AF-spouse           37\n",
            "Name: marital-status, dtype: int64\n",
            "\n",
            "\n",
            "\n",
            "- occupation:\n",
            "Prof-specialty       5679\n",
            "Exec-managerial      5412\n",
            "Adm-clerical         4813\n",
            "Sales                4766\n",
            "Craft-repair         4726\n",
            "Other-service        4366\n",
            "Machine-op-inspct    2492\n",
            "?                    2421\n",
            "Transport-moving     2071\n",
            "Handlers-cleaners    1738\n",
            "Farming-fishing      1434\n",
            "Tech-support         1351\n",
            "Protective-serv       944\n",
            "Priv-house-serv       240\n",
            "Armed-Forces           15\n",
            "Name: occupation, dtype: int64\n",
            "\n",
            "\n",
            "\n",
            "- relationship:\n",
            "Husband           16641\n",
            "Not-in-family     11384\n",
            "Own-child          5850\n",
            "Unmarried          4876\n",
            "Wife               2242\n",
            "Other-relative     1475\n",
            "Name: relationship, dtype: int64\n",
            "\n",
            "\n",
            "\n",
            "- race:\n",
            "White                 35541\n",
            "Black                  4536\n",
            "Asian-Pac-Islander     1515\n",
            "Amer-Indian-Eskimo      470\n",
            "Other                   406\n",
            "Name: race, dtype: int64\n",
            "\n",
            "\n",
            "\n",
            "- gender:\n",
            "Male      27988\n",
            "Female    14480\n",
            "Name: gender, dtype: int64\n",
            "\n",
            "\n",
            "\n",
            "- native-country:\n",
            "United-States                 37492\n",
            "Mexico                          927\n",
            "?                               853\n",
            "Philippines                     293\n",
            "Germany                         206\n",
            "Puerto-Rico                     184\n",
            "Canada                          182\n",
            "El-Salvador                     155\n",
            "India                           151\n",
            "Cuba                            138\n",
            "England                         127\n",
            "China                           122\n",
            "South                           115\n",
            "Jamaica                         105\n",
            "Italy                           105\n",
            "Dominican-Republic              103\n",
            "Japan                            92\n",
            "Poland                           87\n",
            "Guatemala                        86\n",
            "Vietnam                          86\n",
            "Columbia                         85\n",
            "Haiti                            75\n",
            "Portugal                         67\n",
            "Taiwan                           65\n",
            "Iran                             59\n",
            "Greece                           49\n",
            "Nicaragua                        49\n",
            "Peru                             46\n",
            "Ecuador                          45\n",
            "France                           38\n",
            "Ireland                          36\n",
            "Hong                             30\n",
            "Thailand                         30\n",
            "Cambodia                         28\n",
            "Trinadad&Tobago                  27\n",
            "Laos                             23\n",
            "Yugoslavia                       23\n",
            "Outlying-US(Guam-USVI-etc)       23\n",
            "Scotland                         21\n",
            "Honduras                         20\n",
            "Hungary                          19\n",
            "Holand-Netherlands                1\n",
            "Name: native-country, dtype: int64\n",
            "\n",
            "\n",
            "\n",
            "- income:\n",
            "<=50K    32020\n",
            ">50K     10448\n",
            "Name: income, dtype: int64\n",
            "\n",
            "\n",
            "\n"
          ]
        }
      ]
    },
    {
      "cell_type": "code",
      "source": [
        "# Check summary statistics\n",
        "df2.describe()"
      ],
      "metadata": {
        "id": "_ixczpO7npca",
        "outputId": "1822ba72-ea3f-4263-d28f-8efb68f620e7",
        "colab": {
          "base_uri": "https://localhost:8080/",
          "height": 300
        }
      },
      "execution_count": 27,
      "outputs": [
        {
          "output_type": "execute_result",
          "data": {
            "text/plain": [
              "                age  educational-num  capital-gain  capital-loss  \\\n",
              "count  42468.000000     42468.000000  42468.000000  42468.000000   \n",
              "mean      39.476947        10.094801   1226.217128     99.859212   \n",
              "std       13.779595         2.658658   7931.500736    429.072095   \n",
              "min       17.000000         1.000000      0.000000      0.000000   \n",
              "25%       29.000000         9.000000      0.000000      0.000000   \n",
              "50%       38.000000        10.000000      0.000000      0.000000   \n",
              "75%       49.000000        13.000000      0.000000      0.000000   \n",
              "max       90.000000        16.000000  99999.000000   4356.000000   \n",
              "\n",
              "       hours-per-week  \n",
              "count    42468.000000  \n",
              "mean        40.650702  \n",
              "std         12.867960  \n",
              "min          1.000000  \n",
              "25%         38.000000  \n",
              "50%         40.000000  \n",
              "75%         45.000000  \n",
              "max         99.000000  "
            ],
            "text/html": [
              "\n",
              "  <div id=\"df-0d76aac9-ac0c-4d3e-aeda-201c69091f1e\">\n",
              "    <div class=\"colab-df-container\">\n",
              "      <div>\n",
              "<style scoped>\n",
              "    .dataframe tbody tr th:only-of-type {\n",
              "        vertical-align: middle;\n",
              "    }\n",
              "\n",
              "    .dataframe tbody tr th {\n",
              "        vertical-align: top;\n",
              "    }\n",
              "\n",
              "    .dataframe thead th {\n",
              "        text-align: right;\n",
              "    }\n",
              "</style>\n",
              "<table border=\"1\" class=\"dataframe\">\n",
              "  <thead>\n",
              "    <tr style=\"text-align: right;\">\n",
              "      <th></th>\n",
              "      <th>age</th>\n",
              "      <th>educational-num</th>\n",
              "      <th>capital-gain</th>\n",
              "      <th>capital-loss</th>\n",
              "      <th>hours-per-week</th>\n",
              "    </tr>\n",
              "  </thead>\n",
              "  <tbody>\n",
              "    <tr>\n",
              "      <th>count</th>\n",
              "      <td>42468.000000</td>\n",
              "      <td>42468.000000</td>\n",
              "      <td>42468.000000</td>\n",
              "      <td>42468.000000</td>\n",
              "      <td>42468.000000</td>\n",
              "    </tr>\n",
              "    <tr>\n",
              "      <th>mean</th>\n",
              "      <td>39.476947</td>\n",
              "      <td>10.094801</td>\n",
              "      <td>1226.217128</td>\n",
              "      <td>99.859212</td>\n",
              "      <td>40.650702</td>\n",
              "    </tr>\n",
              "    <tr>\n",
              "      <th>std</th>\n",
              "      <td>13.779595</td>\n",
              "      <td>2.658658</td>\n",
              "      <td>7931.500736</td>\n",
              "      <td>429.072095</td>\n",
              "      <td>12.867960</td>\n",
              "    </tr>\n",
              "    <tr>\n",
              "      <th>min</th>\n",
              "      <td>17.000000</td>\n",
              "      <td>1.000000</td>\n",
              "      <td>0.000000</td>\n",
              "      <td>0.000000</td>\n",
              "      <td>1.000000</td>\n",
              "    </tr>\n",
              "    <tr>\n",
              "      <th>25%</th>\n",
              "      <td>29.000000</td>\n",
              "      <td>9.000000</td>\n",
              "      <td>0.000000</td>\n",
              "      <td>0.000000</td>\n",
              "      <td>38.000000</td>\n",
              "    </tr>\n",
              "    <tr>\n",
              "      <th>50%</th>\n",
              "      <td>38.000000</td>\n",
              "      <td>10.000000</td>\n",
              "      <td>0.000000</td>\n",
              "      <td>0.000000</td>\n",
              "      <td>40.000000</td>\n",
              "    </tr>\n",
              "    <tr>\n",
              "      <th>75%</th>\n",
              "      <td>49.000000</td>\n",
              "      <td>13.000000</td>\n",
              "      <td>0.000000</td>\n",
              "      <td>0.000000</td>\n",
              "      <td>45.000000</td>\n",
              "    </tr>\n",
              "    <tr>\n",
              "      <th>max</th>\n",
              "      <td>90.000000</td>\n",
              "      <td>16.000000</td>\n",
              "      <td>99999.000000</td>\n",
              "      <td>4356.000000</td>\n",
              "      <td>99.000000</td>\n",
              "    </tr>\n",
              "  </tbody>\n",
              "</table>\n",
              "</div>\n",
              "      <button class=\"colab-df-convert\" onclick=\"convertToInteractive('df-0d76aac9-ac0c-4d3e-aeda-201c69091f1e')\"\n",
              "              title=\"Convert this dataframe to an interactive table.\"\n",
              "              style=\"display:none;\">\n",
              "        \n",
              "  <svg xmlns=\"http://www.w3.org/2000/svg\" height=\"24px\"viewBox=\"0 0 24 24\"\n",
              "       width=\"24px\">\n",
              "    <path d=\"M0 0h24v24H0V0z\" fill=\"none\"/>\n",
              "    <path d=\"M18.56 5.44l.94 2.06.94-2.06 2.06-.94-2.06-.94-.94-2.06-.94 2.06-2.06.94zm-11 1L8.5 8.5l.94-2.06 2.06-.94-2.06-.94L8.5 2.5l-.94 2.06-2.06.94zm10 10l.94 2.06.94-2.06 2.06-.94-2.06-.94-.94-2.06-.94 2.06-2.06.94z\"/><path d=\"M17.41 7.96l-1.37-1.37c-.4-.4-.92-.59-1.43-.59-.52 0-1.04.2-1.43.59L10.3 9.45l-7.72 7.72c-.78.78-.78 2.05 0 2.83L4 21.41c.39.39.9.59 1.41.59.51 0 1.02-.2 1.41-.59l7.78-7.78 2.81-2.81c.8-.78.8-2.07 0-2.86zM5.41 20L4 18.59l7.72-7.72 1.47 1.35L5.41 20z\"/>\n",
              "  </svg>\n",
              "      </button>\n",
              "      \n",
              "  <style>\n",
              "    .colab-df-container {\n",
              "      display:flex;\n",
              "      flex-wrap:wrap;\n",
              "      gap: 12px;\n",
              "    }\n",
              "\n",
              "    .colab-df-convert {\n",
              "      background-color: #E8F0FE;\n",
              "      border: none;\n",
              "      border-radius: 50%;\n",
              "      cursor: pointer;\n",
              "      display: none;\n",
              "      fill: #1967D2;\n",
              "      height: 32px;\n",
              "      padding: 0 0 0 0;\n",
              "      width: 32px;\n",
              "    }\n",
              "\n",
              "    .colab-df-convert:hover {\n",
              "      background-color: #E2EBFA;\n",
              "      box-shadow: 0px 1px 2px rgba(60, 64, 67, 0.3), 0px 1px 3px 1px rgba(60, 64, 67, 0.15);\n",
              "      fill: #174EA6;\n",
              "    }\n",
              "\n",
              "    [theme=dark] .colab-df-convert {\n",
              "      background-color: #3B4455;\n",
              "      fill: #D2E3FC;\n",
              "    }\n",
              "\n",
              "    [theme=dark] .colab-df-convert:hover {\n",
              "      background-color: #434B5C;\n",
              "      box-shadow: 0px 1px 3px 1px rgba(0, 0, 0, 0.15);\n",
              "      filter: drop-shadow(0px 1px 2px rgba(0, 0, 0, 0.3));\n",
              "      fill: #FFFFFF;\n",
              "    }\n",
              "  </style>\n",
              "\n",
              "      <script>\n",
              "        const buttonEl =\n",
              "          document.querySelector('#df-0d76aac9-ac0c-4d3e-aeda-201c69091f1e button.colab-df-convert');\n",
              "        buttonEl.style.display =\n",
              "          google.colab.kernel.accessAllowed ? 'block' : 'none';\n",
              "\n",
              "        async function convertToInteractive(key) {\n",
              "          const element = document.querySelector('#df-0d76aac9-ac0c-4d3e-aeda-201c69091f1e');\n",
              "          const dataTable =\n",
              "            await google.colab.kernel.invokeFunction('convertToInteractive',\n",
              "                                                     [key], {});\n",
              "          if (!dataTable) return;\n",
              "\n",
              "          const docLinkHtml = 'Like what you see? Visit the ' +\n",
              "            '<a target=\"_blank\" href=https://colab.research.google.com/notebooks/data_table.ipynb>data table notebook</a>'\n",
              "            + ' to learn more about interactive tables.';\n",
              "          element.innerHTML = '';\n",
              "          dataTable['output_type'] = 'display_data';\n",
              "          await google.colab.output.renderOutput(dataTable, element);\n",
              "          const docLink = document.createElement('div');\n",
              "          docLink.innerHTML = docLinkHtml;\n",
              "          element.appendChild(docLink);\n",
              "        }\n",
              "      </script>\n",
              "    </div>\n",
              "  </div>\n",
              "  "
            ]
          },
          "metadata": {},
          "execution_count": 27
        }
      ]
    },
    {
      "cell_type": "markdown",
      "source": [
        "I have to move on with df2 - Adult income Dataset"
      ],
      "metadata": {
        "id": "4FlubjwGnH9w"
      }
    }
  ]
}